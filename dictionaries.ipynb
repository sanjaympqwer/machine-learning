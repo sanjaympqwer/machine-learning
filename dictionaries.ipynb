{
 "cells": [
  {
   "cell_type": "code",
   "execution_count": 1,
   "id": "39c089ac-db3b-4d6f-8ab9-9111f130a3ee",
   "metadata": {},
   "outputs": [
    {
     "name": "stdout",
     "output_type": "stream",
     "text": [
      "dictionary of students and thier grades: {'sam': 90, 'revi': 65, 'vinay': 89, 'shankar': 95}\n"
     ]
    }
   ],
   "source": [
    "dictionary={\n",
    "    \"sam\":90,\n",
    "    \"revi\":65,\n",
    "    \"vinay\":89,\n",
    "    \"shankar\":95\n",
    "}\n",
    "# printing the dictionary values\n",
    "print(\"dictionary of students and thier grades:\",dictionary)"
   ]
  },
  {
   "cell_type": "code",
   "execution_count": 5,
   "id": "ce8a40a1-f812-429f-8ffc-192f243414a4",
   "metadata": {},
   "outputs": [
    {
     "name": "stdout",
     "output_type": "stream",
     "text": [
      "accesing sam's grade: 90\n",
      "Updated student grades: {'sam': 90, 'revi': 95, 'vinay': 89, 'shankar': 95, 'Frank': 88}\n"
     ]
    }
   ],
   "source": [
    "dictionary={\n",
    "    \"sam\":90,\n",
    "    \"revi\":65,\n",
    "    \"vinay\":89,\n",
    "    \"shankar\":95\n",
    "}\n",
    "#accessing data \n",
    "print(\"accesing sam's grade:\",dictionary[\"sam\"])\n",
    "\n",
    "dictionary[\"revi\"] = 95  \n",
    "# revi's grade is now 95\n",
    "\n",
    "# Adding a new student and grade\n",
    "dictionary[\"Frank\"] = 88\n",
    "\n",
    "# Print the updated dictionary\n",
    "print(\"Updated student grades:\", dictionary)\n"
   ]
  },
  {
   "cell_type": "code",
   "execution_count": 10,
   "id": "3b3e635a-0ced-49cb-bb9f-a3b3268b065e",
   "metadata": {},
   "outputs": [
    {
     "name": "stdout",
     "output_type": "stream",
     "text": [
      "Student: sam, Grade: 90\n",
      "Student: revi, Grade: 65\n",
      "Student: vinay, Grade: 89\n",
      "Student: shankar, Grade: 95\n"
     ]
    }
   ],
   "source": [
    "# Creating a dictionary to store student names and their grades\n",
    "st_grades = {\n",
    "    \"sam\":90,\n",
    "    \"revi\":65,\n",
    "    \"vinay\":89,\n",
    "    \"shankar\":95\n",
    "}\n",
    "\n",
    "# Iterating through keys and values using .items()\n",
    "for st, grade in st_grades.items():\n",
    "    print(f\"Student: {st}, Grade: {grade}\")\n"
   ]
  },
  {
   "cell_type": "code",
   "execution_count": null,
   "id": "efa699c4-d6fd-4db9-b4bb-cc8a035261e0",
   "metadata": {},
   "outputs": [],
   "source": []
  }
 ],
 "metadata": {
  "kernelspec": {
   "display_name": "Python 3 (ipykernel)",
   "language": "python",
   "name": "python3"
  },
  "language_info": {
   "codemirror_mode": {
    "name": "ipython",
    "version": 3
   },
   "file_extension": ".py",
   "mimetype": "text/x-python",
   "name": "python",
   "nbconvert_exporter": "python",
   "pygments_lexer": "ipython3",
   "version": "3.12.7"
  }
 },
 "nbformat": 4,
 "nbformat_minor": 5
}
