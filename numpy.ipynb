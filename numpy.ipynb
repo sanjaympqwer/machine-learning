{
 "cells": [
  {
   "cell_type": "code",
   "execution_count": 1,
   "id": "111f24b3-7658-41a7-96d9-e4b271cfcf34",
   "metadata": {},
   "outputs": [
    {
     "name": "stdout",
     "output_type": "stream",
     "text": [
      "Addition Result: [ 6  8 10 12]\n",
      "Multiplication Result: [ 5 12 21 32]\n"
     ]
    }
   ],
   "source": [
    "import numpy as np\n",
    "\n",
    "# Creating two NumPy arrays\n",
    "arr1 = np.array([1, 2, 3, 4])\n",
    "arr2 = np.array([5, 6, 7, 8])\n",
    "\n",
    "# Array addition\n",
    "add = arr1 + arr2\n",
    "\n",
    "# Array multiplication (element-wise)\n",
    "mul = arr1 * arr2\n",
    "\n",
    "# Output the results\n",
    "print(\"Addition Result:\", add)\n",
    "print(\"Multiplication Result:\", mul)\n"
   ]
  },
  {
   "cell_type": "code",
   "execution_count": 4,
   "id": "f5fb537d-961b-488b-8e32-bb9638971b3d",
   "metadata": {},
   "outputs": [
    {
     "name": "stdout",
     "output_type": "stream",
     "text": [
      "Mean: 33.8\n",
      "Standard Deviation: 15.367498169838838\n"
     ]
    }
   ],
   "source": [
    "import numpy as np\n",
    "arr = np.array([11, 23, 35, 47, 53])\n",
    "# Calculating mean\n",
    "mean = np.mean(arr)\n",
    "# Calculating standard deviation\n",
    "std = np.std(arr)\n",
    "print(\"Mean:\", mean)\n",
    "print(\"Standard Deviation:\", std)\n"
   ]
  },
  {
   "cell_type": "code",
   "execution_count": 5,
   "id": "a7f4715f-99ad-4124-b051-6da874bc4f98",
   "metadata": {},
   "outputs": [
    {
     "name": "stdout",
     "output_type": "stream",
     "text": [
      "Original Array: [1 2 3 4 5 6]\n",
      "\n",
      "Reshaped Array: [[1 2 3]\n",
      " [4 5 6]]\n"
     ]
    }
   ],
   "source": [
    "import numpy as np\n",
    "arr = np.array([1, 2, 3, 4, 5, 6])\n",
    "r_arr = arr.reshape(2, 3)\n",
    "print(\"Original Array:\",arr)\n",
    "print(\"\\nReshaped Array:\",r_arr)\n",
    "\n"
   ]
  },
  {
   "cell_type": "code",
   "execution_count": null,
   "id": "a49ea54f-5ef9-4508-98e2-43e6cc8f2843",
   "metadata": {},
   "outputs": [],
   "source": []
  }
 ],
 "metadata": {
  "kernelspec": {
   "display_name": "anaconda-panel-2023.05-py310",
   "language": "python",
   "name": "conda-env-anaconda-panel-2023.05-py310-py"
  },
  "language_info": {
   "codemirror_mode": {
    "name": "ipython",
    "version": 3
   },
   "file_extension": ".py",
   "mimetype": "text/x-python",
   "name": "python",
   "nbconvert_exporter": "python",
   "pygments_lexer": "ipython3",
   "version": "3.11.5"
  }
 },
 "nbformat": 4,
 "nbformat_minor": 5
}
