{
 "cells": [
  {
   "cell_type": "code",
   "execution_count": 6,
   "id": "9160a903-1aae-438a-88ee-81422f60e839",
   "metadata": {},
   "outputs": [
    {
     "name": "stdout",
     "output_type": "stream",
     "text": [
      "5 is type of <class 'int'>\n",
      "28.9 is type of <class 'float'>\n",
      "hello is type of <class 'str'>\n",
      "True is type of <class 'bool'>\n"
     ]
    }
   ],
   "source": [
    "n1=5\n",
    "n2=28.9\n",
    "n3=\"hello\"\n",
    "n4=True\n",
    "print(n1,'is type of',type(n1))\n",
    "print(n2,'is type of',type(n2))\n",
    "print(n3,'is type of',type(n3))\n",
    "print(n4,'is type of',type(n4))"
   ]
  },
  {
   "cell_type": "code",
   "execution_count": 8,
   "id": "1e576196-909b-400b-ba2b-d256aaef2565",
   "metadata": {},
   "outputs": [
    {
     "name": "stdin",
     "output_type": "stream",
     "text": [
      "enter numer1 5\n",
      "enter numer2 3\n"
     ]
    },
    {
     "name": "stdout",
     "output_type": "stream",
     "text": [
      "addition: 8\n",
      "subtraction: 2\n",
      "multiplication: 15\n",
      "division: 1.6666666666666667\n"
     ]
    }
   ],
   "source": [
    "n1=int(input(\"enter numer1\"))\n",
    "n2=int(input(\"enter numer2\"))\n",
    "print(\"addition:\",n1+n2)\n",
    "print(\"subtraction:\",n1-n2)\n",
    "print(\"multiplication:\",n1*n2)\n",
    "print(\"division:\",n1/n2)\n"
   ]
  },
  {
   "cell_type": "code",
   "execution_count": null,
   "id": "1f808ec5-26de-440e-af76-df7fd59d6fd4",
   "metadata": {},
   "outputs": [],
   "source": []
  }
 ],
 "metadata": {
  "kernelspec": {
   "display_name": "Python 3 (ipykernel)",
   "language": "python",
   "name": "python3"
  },
  "language_info": {
   "codemirror_mode": {
    "name": "ipython",
    "version": 3
   },
   "file_extension": ".py",
   "mimetype": "text/x-python",
   "name": "python",
   "nbconvert_exporter": "python",
   "pygments_lexer": "ipython3",
   "version": "3.12.7"
  }
 },
 "nbformat": 4,
 "nbformat_minor": 5
}
