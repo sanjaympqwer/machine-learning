{
 "cells": [
  {
   "cell_type": "code",
   "execution_count": 1,
   "id": "fb58754d-df85-4638-9a35-3d0e180e0114",
   "metadata": {},
   "outputs": [
    {
     "name": "stdout",
     "output_type": "stream",
     "text": [
      "sum is: 15\n",
      "average is: 3.0\n"
     ]
    }
   ],
   "source": [
    "l1=[1,2,3,4,5]\n",
    "s1=sum(l1)\n",
    "avg=s1/len(l1)\n",
    "print(\"sum is:\",s1)\n",
    "print(\"average is:\",avg)"
   ]
  },
  {
   "cell_type": "code",
   "execution_count": 4,
   "id": "90d4ea36-eccf-4208-ac62-f5ce125dac7e",
   "metadata": {},
   "outputs": [
    {
     "name": "stdout",
     "output_type": "stream",
     "text": [
      "HELLO\n",
      "HEYY\n",
      "QWERT\n"
     ]
    }
   ],
   "source": [
    "l1=['hello','heyy','qwert']\n",
    "for string in l1:\n",
    "    print(string.upper())"
   ]
  },
  {
   "cell_type": "code",
   "execution_count": 5,
   "id": "2d7b9f68-d157-4603-b492-305c389fc3da",
   "metadata": {},
   "outputs": [
    {
     "name": "stdout",
     "output_type": "stream",
     "text": [
      "accessing using indexing:\n",
      "10\n",
      "44\n",
      "21\n",
      "accessing using slicing:\n",
      "[10, 1, 2, 23]\n",
      "[10, 1]\n"
     ]
    }
   ],
   "source": [
    "l1=[10,1,2,23,46,21,76,44]\n",
    "print(\"accessing using indexing:\")\n",
    "print(l1[0])\n",
    "print(l1[-1])\n",
    "print(l1[5])\n",
    "print(\"accessing using slicing:\")\n",
    "print(l1[0:4])\n",
    "print(l1[:2])\n"
   ]
  },
  {
   "cell_type": "code",
   "execution_count": 8,
   "id": "42e98214-2a09-4dd3-8834-81bb4941e76f",
   "metadata": {},
   "outputs": [
    {
     "name": "stdout",
     "output_type": "stream",
     "text": [
      "after appending: [10, 'fruit', 1, 2, 23, 46, 21, 76, 44, '56']\n",
      "after removing: [10, 'fruit', 1, 2, 46, 21, 76, 44, '56']\n",
      "after altering: ['toys', 'fruit', 1, 2, 46, 21, 76, 44, '56']\n"
     ]
    }
   ],
   "source": [
    "l1=[10,1,2,23,46,21,76,44]\n",
    "l1.append(\"56\")\n",
    "l1.insert(1,\"fruit\")\n",
    "print(\"after appending:\",l1)\n",
    "l1.remove(l1[4])\n",
    "print(\"after removing:\",l1)\n",
    "l1[0]=\"toys\"\n",
    "print(\"after altering:\",l1)"
   ]
  },
  {
   "cell_type": "code",
   "execution_count": null,
   "id": "e25e3afe-dca7-4b23-a756-d14ef8230a8c",
   "metadata": {},
   "outputs": [],
   "source": []
  }
 ],
 "metadata": {
  "kernelspec": {
   "display_name": "Python 3 (ipykernel)",
   "language": "python",
   "name": "python3"
  },
  "language_info": {
   "codemirror_mode": {
    "name": "ipython",
    "version": 3
   },
   "file_extension": ".py",
   "mimetype": "text/x-python",
   "name": "python",
   "nbconvert_exporter": "python",
   "pygments_lexer": "ipython3",
   "version": "3.12.7"
  }
 },
 "nbformat": 4,
 "nbformat_minor": 5
}
