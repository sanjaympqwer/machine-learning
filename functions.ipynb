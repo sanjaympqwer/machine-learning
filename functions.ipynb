{
 "cells": [
  {
   "cell_type": "code",
   "execution_count": 1,
   "id": "343d8d98-8403-4e29-b4f9-3a2d5069750c",
   "metadata": {},
   "outputs": [
    {
     "name": "stdin",
     "output_type": "stream",
     "text": [
      "Enter  length of the rectangle:  5\n",
      "Enter  width of the rectangle:  4\n"
     ]
    },
    {
     "name": "stdout",
     "output_type": "stream",
     "text": [
      " area of the rectangle is: 20.0\n"
     ]
    }
   ],
   "source": [
    "# calculate the area of a rectangle\n",
    "def calculate_area(l, w):\n",
    "    return l * w\n",
    "\n",
    "\n",
    "l = float(input(\"Enter  length of the rectangle: \"))\n",
    "w = float(input(\"Enter  width of the rectangle: \"))\n",
    "\n",
    "area = calculate_area(l, w)\n",
    "print(f\" area of the rectangle is: {area}\")\n"
   ]
  },
  {
   "cell_type": "code",
   "execution_count": 4,
   "id": "a38c5a90-8086-4f63-8a88-ddce2e4f0010",
   "metadata": {},
   "outputs": [
    {
     "name": "stdin",
     "output_type": "stream",
     "text": [
      "Enter the first number:  55\n",
      "Enter the second number:  21\n"
     ]
    },
    {
     "name": "stdout",
     "output_type": "stream",
     "text": [
      "The maximum number is: 55.0\n"
     ]
    }
   ],
   "source": [
    "# find the maximum of two numbers\n",
    "def find_max(n1, n2):\n",
    "    if n1 > n2:\n",
    "        return n1\n",
    "    else:\n",
    "        return n2\n",
    "        \n",
    "n1 = float(input(\"Enter the first number: \"))\n",
    "n2 = float(input(\"Enter the second number: \"))\n",
    "\n",
    "max_num = find_max(n1, n2)\n",
    "print(f\"The maximum number is: {max_num}\")\n"
   ]
  },
  {
   "cell_type": "code",
   "execution_count": 9,
   "id": "368c5be9-e4f0-4b4c-be16-702f4e3e2cd3",
   "metadata": {},
   "outputs": [
    {
     "name": "stdout",
     "output_type": "stream",
     "text": [
      "Original list: [1, 2, 3, 4, 5]\n",
      "Reversed list: [5, 4, 3, 2, 1]\n"
     ]
    }
   ],
   "source": [
    "# Function to reverse a list\n",
    "def rev_list(input_list):\n",
    "    return input_list[::-1]\n",
    "\n",
    "\n",
    "list = [1, 2, 3, 4, 5]\n",
    "revd_list = rev_list(list)\n",
    "\n",
    "print(\"Original list:\", list)\n",
    "print(\"Reversed list:\", revd_list)\n"
   ]
  },
  {
   "cell_type": "code",
   "execution_count": null,
   "id": "fe3c45e1-8444-486d-acf0-e1140b5a582c",
   "metadata": {},
   "outputs": [],
   "source": []
  }
 ],
 "metadata": {
  "kernelspec": {
   "display_name": "Python 3 (ipykernel)",
   "language": "python",
   "name": "python3"
  },
  "language_info": {
   "codemirror_mode": {
    "name": "ipython",
    "version": 3
   },
   "file_extension": ".py",
   "mimetype": "text/x-python",
   "name": "python",
   "nbconvert_exporter": "python",
   "pygments_lexer": "ipython3",
   "version": "3.12.7"
  }
 },
 "nbformat": 4,
 "nbformat_minor": 5
}
